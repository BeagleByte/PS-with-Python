{
 "cells": [
  {
   "cell_type": "code",
   "execution_count": null,
   "id": "9d4bb905-f2bc-4779-a649-7833ff78a4c8",
   "metadata": {},
   "outputs": [],
   "source": []
  }
 ],
 "metadata": {
  "kernelspec": {
   "display_name": "",
   "name": ""
  },
  "language_info": {
   "name": ""
  }
 },
 "nbformat": 4,
 "nbformat_minor": 5
}
