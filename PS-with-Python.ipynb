{
 "cells": [
  {
   "cell_type": "code",
   "execution_count": 2,
   "id": "9d4bb905-f2bc-4779-a649-7833ff78a4c8",
   "metadata": {},
   "outputs": [],
   "source": [
    "import pandas as pd #The swiss knife for data science"
   ]
  },
  {
   "cell_type": "code",
   "execution_count": 3,
   "id": "9867eefb-dd21-4e9a-8b44-4a466b6a078d",
   "metadata": {},
   "outputs": [],
   "source": [
    "import numpy as np"
   ]
  },
  {
   "cell_type": "code",
   "execution_count": 4,
   "id": "251f527a-c0e1-4715-823f-74c99c9e41f4",
   "metadata": {},
   "outputs": [],
   "source": [
    "import matplotlib.pyplot as plt # draw charts\n",
    "import seaborn as sns\n",
    "sns.set_style('whitegrid')\n",
    "%matplotlib inline"
   ]
  },
  {
   "cell_type": "code",
   "execution_count": 6,
   "id": "ae589035-2890-4bd5-ab4a-9ce3e7c25b6a",
   "metadata": {},
   "outputs": [],
   "source": [
    "import pandas_datareader.data as web # conda install pandas-datareader"
   ]
  },
  {
   "cell_type": "code",
   "execution_count": 7,
   "id": "71ba68af-a829-4faf-ace8-c4e9c07b04e9",
   "metadata": {},
   "outputs": [],
   "source": [
    "from datetime import datetime"
   ]
  },
  {
   "cell_type": "code",
   "execution_count": null,
   "id": "b9a1f5e8-4591-475e-aebc-ba96b489f54b",
   "metadata": {},
   "outputs": [],
   "source": []
  }
 ],
 "metadata": {
  "kernelspec": {
   "display_name": "Python 3 (ipykernel)",
   "language": "python",
   "name": "python3"
  },
  "language_info": {
   "codemirror_mode": {
    "name": "ipython",
    "version": 3
   },
   "file_extension": ".py",
   "mimetype": "text/x-python",
   "name": "python",
   "nbconvert_exporter": "python",
   "pygments_lexer": "ipython3",
   "version": "3.12.7"
  }
 },
 "nbformat": 4,
 "nbformat_minor": 5
}
